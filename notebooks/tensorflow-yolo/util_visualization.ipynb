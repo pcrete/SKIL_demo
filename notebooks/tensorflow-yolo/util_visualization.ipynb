{
 "cells": [
  {
   "cell_type": "markdown",
   "metadata": {},
   "source": [
    "# Bounding Box Visualizer"
   ]
  },
  {
   "cell_type": "code",
   "execution_count": 1,
   "metadata": {},
   "outputs": [],
   "source": [
    "COLORS = [ \n",
    "    \"#6793be\", \"#990000\", \"#00ff00\", \"#ffbcc9\", \"#ffb9c7\", \"#fdc6d1\",\n",
    "    \"#fdc9d3\", \"#6793be\", \"#73a4d4\", \"#9abde0\", \"#9abde0\", \"#8fff8f\", \"#ffcfd8\", \"#808080\", \"#808080\",\n",
    "    \"#ffba00\", \"#6699ff\", \"#009933\", \"#1c1c1c\", \"#08375f\", \"#116ebf\", \"#e61d35\", \"#106bff\", \"#8f8fff\",\n",
    "    \"#8fff8f\", \"#dbdbff\", \"#dbffdb\", \"#dbffff\", \"#ffdbdb\", \"#ffc2c2\", \"#ffa8a8\", \"#ff8f8f\", \"#e85e68\",\n",
    "    \"#123456\", \"#5cd38c\", \"#1d1f5f\", \"#4e4b04\", \"#495a5b\", \"#489d73\", \"#9d4872\", \"#d49ea6\", \"#ff0080\",\n",
    "    \"#6793be\", \"#990000\", \"#fececf\", \"#ffbcc9\", \"#ffb9c7\", \"#fdc6d1\",\n",
    "    \"#fdc9d3\", \"#6793be\", \"#73a4d4\", \"#9abde0\", \"#9abde0\", \"#8fff8f\", \"#ffcfd8\", \"#808080\", \"#808080\",\n",
    "    \"#ffba00\", \"#6699ff\", \"#009933\", \"#1c1c1c\", \"#08375f\", \"#116ebf\", \"#e61d35\", \"#106bff\", \"#8f8fff\",\n",
    "    \"#8fff8f\", \"#dbdbff\", \"#dbffdb\", \"#dbffff\", \"#ffdbdb\", \"#ffc2c2\", \"#ffa8a8\", \"#ff8f8f\", \"#e85e68\",\n",
    "    \"#123456\", \"#5cd38c\", \"#1d1f5f\", \"#4e4b04\", \"#495a5b\", \"#489d73\", \"#9d4872\", \"#d49ea6\", \"#ff0080\" \n",
    "]"
   ]
  },
  {
   "cell_type": "code",
   "execution_count": 2,
   "metadata": {},
   "outputs": [],
   "source": [
    "try:\n",
    "    import cv2\n",
    "except ImportError:\n",
    "    cv2 = None\n",
    "\n",
    "def annotate_image(image, detection):\n",
    "    \"\"\" Annotate images with object detection results\n",
    "    # Arguments:\n",
    "        image: numpy array representing the image used for detection\n",
    "        detection: `DetectionResult` result from SKIL on the same image\n",
    "    # Return value:\n",
    "        annotated image as numpy array\n",
    "    \"\"\"\n",
    "    if cv2 is None:\n",
    "        raise Exception(\"OpenCV is not installed.\")\n",
    "    objects = detection.get('objects')\n",
    "    if objects:\n",
    "        for detect in objects:\n",
    "            confs = detect.get('confidences')\n",
    "            max_conf = max(confs)\n",
    "            max_index = confs.index(max_conf)\n",
    "            classes = detect.get('predictedClasses')\n",
    "            max_class = classes[max_index]\n",
    "            h = detect.get('height')\n",
    "            w = detect.get('width')\n",
    "            center_x = detect.get('centerX')\n",
    "            center_y = detect.get('centerY')\n",
    "            lower = (int(center_x - w/2), int(center_y - h/2))\n",
    "            upper = (int(center_x + w/2), int(center_y + h/2))\n",
    "            im = cv2.rectangle(image, lower, upper, (255, 0, 0), 3)\n",
    "            cv2.putText(image, max_class + \" \" + str(max_conf),\n",
    "                        upper, cv2.FONT_HERSHEY_SIMPLEX, 1, 0, 2)\n",
    "    return image"
   ]
  },
  {
   "cell_type": "code",
   "execution_count": null,
   "metadata": {},
   "outputs": [],
   "source": []
  }
 ],
 "metadata": {
  "kernelspec": {
   "display_name": "Python 3",
   "language": "python",
   "name": "python3"
  },
  "language_info": {
   "codemirror_mode": {
    "name": "ipython",
    "version": 3
   },
   "file_extension": ".py",
   "mimetype": "text/x-python",
   "name": "python",
   "nbconvert_exporter": "python",
   "pygments_lexer": "ipython3",
   "version": "3.5.2"
  }
 },
 "nbformat": 4,
 "nbformat_minor": 2
}
