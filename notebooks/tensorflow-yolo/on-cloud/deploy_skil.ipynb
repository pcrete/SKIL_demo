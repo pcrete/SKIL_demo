{
 "cells": [
  {
   "cell_type": "markdown",
   "metadata": {},
   "source": [
    "# YOLO-v2 Object Detection model on SKIL"
   ]
  },
  {
   "cell_type": "code",
   "execution_count": 1,
   "metadata": {},
   "outputs": [
    {
     "name": "stderr",
     "output_type": "stream",
     "text": [
      "Using TensorFlow backend.\n"
     ]
    }
   ],
   "source": [
    "from skil import Skil, WorkSpace, Experiment, Model, Deployment\n",
    "import skil"
   ]
  },
  {
   "cell_type": "markdown",
   "metadata": {},
   "source": [
    "## SKIL deployment"
   ]
  },
  {
   "cell_type": "code",
   "execution_count": 2,
   "metadata": {},
   "outputs": [
    {
     "name": "stdout",
     "output_type": "stream",
     "text": [
      "'>>> Authenticating SKIL...'\n",
      "'>>> Done!'\n"
     ]
    }
   ],
   "source": [
    "skil_server = Skil(\n",
    "    host          = '139.5.145.132',\n",
    "    port          = 9008,\n",
    "    user_id       = 'admin',\n",
    "    password      = ''\n",
    ")"
   ]
  },
  {
   "cell_type": "code",
   "execution_count": 3,
   "metadata": {},
   "outputs": [],
   "source": [
    "work_space = WorkSpace(\n",
    "    skil          = skil_server, \n",
    "    name          = 'yolo-workspace'\n",
    ")\n",
    "\n",
    "experiment = Experiment(\n",
    "    work_space    = work_space, \n",
    "    name          = 'yolo-experiment', \n",
    "    experiment_id = 'yolo-experiment-01'\n",
    ")"
   ]
  },
  {
   "cell_type": "code",
   "execution_count": 6,
   "metadata": {},
   "outputs": [
    {
     "name": "stdout",
     "output_type": "stream",
     "text": [
      "'>>> Uploading model, this might take a while...'\n",
      "[   {'file_content': None,\n",
      " 'file_name': 'yolo2.pb',\n",
      " 'key': 'file',\n",
      " 'path': '/opt/skil/plugins/files/MODEL/yolo2.pb',\n",
      " 'status': 'uploaded',\n",
      " 'type': None}]\n"
     ]
    }
   ],
   "source": [
    "model = Model(\n",
    "    model         = 'yolo2.pb', \n",
    "    name          = 'yolo-model',\n",
    "    model_id      = 'yolo-model-01',\n",
    "    experiment    = experiment\n",
    ")"
   ]
  },
  {
   "cell_type": "code",
   "execution_count": 8,
   "metadata": {},
   "outputs": [
    {
     "name": "stdout",
     "output_type": "stream",
     "text": [
      "{'created': 1557923493362,\n",
      " 'deployment_id': 5,\n",
      " 'extra_args': None,\n",
      " 'file_location': None,\n",
      " 'id': 3,\n",
      " 'jvm_args': None,\n",
      " 'labels_file_location': None,\n",
      " 'launch_policy': {'@class': 'io.skymind.deployment.launchpolicy.DefaultLaunchPolicy',\n",
      "                   'maxFailuresMs': 300000,\n",
      "                   'maxFailuresQty': 3},\n",
      " 'model_state': None,\n",
      " 'model_type': 'model',\n",
      " 'name': 'yolo-model',\n",
      " 'scale': 1.0,\n",
      " 'state': 'stopped',\n",
      " 'sub_type': None,\n",
      " 'updated': None}\n",
      "'>>> Starting to serve model...'\n",
      "'>>> Waiting for deployment...'\n",
      "'>>> Waiting for deployment...'\n",
      "'>>> Waiting for deployment...'\n",
      "'>>> Waiting for deployment...'\n",
      "'>>> Waiting for deployment...'\n",
      "'>>> Waiting for deployment...'\n",
      "'>>> Waiting for deployment...'\n",
      "'>>> Model server started successfully!'\n"
     ]
    }
   ],
   "source": [
    "deployment = Deployment(\n",
    "    skil          = skil_server,\n",
    "    name          = 'yolo-deployment'\n",
    ")\n",
    "\n",
    "service = model.deploy(\n",
    "    deployment=deployment, \n",
    "    input_names=['input'], \n",
    "    output_names=['output']\n",
    ")"
   ]
  },
  {
   "cell_type": "code",
   "execution_count": 9,
   "metadata": {},
   "outputs": [],
   "source": [
    "service.save('service.json')"
   ]
  }
 ],
 "metadata": {
  "kernelspec": {
   "display_name": "Python 3",
   "language": "python",
   "name": "python3"
  },
  "language_info": {
   "codemirror_mode": {
    "name": "ipython",
    "version": 3
   },
   "file_extension": ".py",
   "mimetype": "text/x-python",
   "name": "python",
   "nbconvert_exporter": "python",
   "pygments_lexer": "ipython3",
   "version": "3.5.2"
  }
 },
 "nbformat": 4,
 "nbformat_minor": 2
}
