{
 "cells": [
  {
   "cell_type": "markdown",
   "metadata": {},
   "source": [
    "# Deploy YOLO-v2 Object Detection model on SKIL"
   ]
  },
  {
   "cell_type": "markdown",
   "metadata": {},
   "source": [
    "This example is meant to show off raw TF model import into SKIL. \n",
    "\n",
    "We've chosen object detection in computer vision as the application we want to demo in the context of Tensor Flow model import on SKIL. \n",
    "\n",
    "For the purposes of demoing computer vision on SKIL, we'll use a YOLO network for object deteciton as the application. \n",
    "\n",
    "The original YOLO2 model is in the darknet framework format, but fortunately we have a way of converting this format to the tensor flow format."
   ]
  },
  {
   "cell_type": "markdown",
   "metadata": {},
   "source": [
    "![alt text](https://pjreddie.com/media/image/model2.png \"Image Courtesy of YOLO Website\")"
   ]
  },
  {
   "cell_type": "markdown",
   "metadata": {},
   "source": [
    "## The purpose of this demo on SKIL is two-fold:\n",
    "1. show off the native TensorFlow model import capabilities of the SKIL platform\n",
    "2. show off a live real-world computer vision object detection demo on the SKIL platform"
   ]
  },
  {
   "cell_type": "code",
   "execution_count": 1,
   "metadata": {
    "scrolled": true
   },
   "outputs": [
    {
     "name": "stderr",
     "output_type": "stream",
     "text": [
      "Using TensorFlow backend.\n"
     ]
    }
   ],
   "source": [
    "from skil import Skil, WorkSpace, Experiment, Model, Deployment\n",
    "import skil"
   ]
  },
  {
   "cell_type": "markdown",
   "metadata": {},
   "source": [
    "## Connect SKIL Model Server"
   ]
  },
  {
   "cell_type": "code",
   "execution_count": 2,
   "metadata": {},
   "outputs": [
    {
     "name": "stdout",
     "output_type": "stream",
     "text": [
      "'>>> Authenticating SKIL...'\n",
      "'>>> Done!'\n"
     ]
    }
   ],
   "source": [
    "skil_server = Skil(\n",
    "    host          = 'localhost',\n",
    "    port          = 9008,\n",
    "    user_id       = 'admin',\n",
    "    password      = 'Skymind'\n",
    ")"
   ]
  },
  {
   "cell_type": "markdown",
   "metadata": {},
   "source": [
    "## Create Workspace"
   ]
  },
  {
   "cell_type": "code",
   "execution_count": 3,
   "metadata": {},
   "outputs": [],
   "source": [
    "work_space = WorkSpace(\n",
    "    skil          = skil_server, \n",
    "    name          = 'yolo-workspace'\n",
    ")\n",
    "\n",
    "experiment = Experiment(\n",
    "    work_space    = work_space, \n",
    "    name          = 'yolo-experiment', \n",
    "    experiment_id = 'yolo-experiment-01'\n",
    ")"
   ]
  },
  {
   "cell_type": "markdown",
   "metadata": {},
   "source": [
    "## Import the TensorFlow Protobuff File"
   ]
  },
  {
   "cell_type": "code",
   "execution_count": 5,
   "metadata": {},
   "outputs": [
    {
     "name": "stdout",
     "output_type": "stream",
     "text": [
      "'>>> Uploading model, this might take a while...'\n",
      "[   {'file_content': None,\n",
      " 'file_name': 'yolo2.pb',\n",
      " 'key': 'file',\n",
      " 'path': '/opt/skil/plugins/files/MODEL/yolo2.pb',\n",
      " 'status': 'uploaded',\n",
      " 'type': None}]\n"
     ]
    }
   ],
   "source": [
    "model = Model(\n",
    "    model         = 'yolo2.pb', \n",
    "    name          = 'yolo-model',\n",
    "    model_id      = 'yolo-model-01',\n",
    "    experiment    = experiment\n",
    ")"
   ]
  },
  {
   "cell_type": "markdown",
   "metadata": {},
   "source": [
    "## Create Deployment"
   ]
  },
  {
   "cell_type": "markdown",
   "metadata": {},
   "source": [
    "It will take a few seconds for the page to report that the endpoint has successfully started. \n",
    "\n",
    "Once the page lists the endpoint as running, however, you will have access to the model from the listed endpoint on the page. \n",
    "\n",
    "The endpoint URI will look something like: http://localhost:9008/endpoints/{deplotment.name}/model/{moodel.name}/{model.version}/\n",
    "\n",
    "Now we need a client application to query this endpoint and get object detection predictions."
   ]
  },
  {
   "cell_type": "code",
   "execution_count": 6,
   "metadata": {},
   "outputs": [
    {
     "name": "stdout",
     "output_type": "stream",
     "text": [
      "{'created': 1560838223019,\n",
      " 'deployment_id': 1,\n",
      " 'extra_args': None,\n",
      " 'file_location': None,\n",
      " 'id': 2,\n",
      " 'jvm_args': None,\n",
      " 'labels_file_location': None,\n",
      " 'launch_policy': {'@class': 'io.skymind.deployment.launchpolicy.DefaultLaunchPolicy',\n",
      "                   'maxFailuresMs': 300000,\n",
      "                   'maxFailuresQty': 3},\n",
      " 'model_state': None,\n",
      " 'model_type': 'model',\n",
      " 'name': 'yolo-model',\n",
      " 'scale': 1.0,\n",
      " 'state': 'stopped',\n",
      " 'sub_type': None,\n",
      " 'updated': None}\n",
      "'>>> Starting to serve model...'\n",
      "'>>> Waiting for deployment...'\n",
      "'>>> Waiting for deployment...'\n",
      "'>>> Waiting for deployment...'\n",
      "'>>> Waiting for deployment...'\n",
      "'>>> Waiting for deployment...'\n",
      "'>>> Waiting for deployment...'\n",
      "'>>> Model server started successfully!'\n"
     ]
    }
   ],
   "source": [
    "deployment = Deployment(\n",
    "    skil          = skil_server,\n",
    "    name          = 'yolo-deployment'\n",
    ")\n",
    "\n",
    "service = model.deploy(\n",
    "    deployment=deployment, \n",
    "    input_names=['input'], \n",
    "    output_names=['output']\n",
    ")"
   ]
  },
  {
   "cell_type": "markdown",
   "metadata": {},
   "source": [
    "## Save Service Configuration"
   ]
  },
  {
   "cell_type": "code",
   "execution_count": 7,
   "metadata": {},
   "outputs": [],
   "source": [
    "service.save('service.json')"
   ]
  }
 ],
 "metadata": {
  "kernelspec": {
   "display_name": "Python 3",
   "language": "python",
   "name": "python3"
  },
  "language_info": {
   "codemirror_mode": {
    "name": "ipython",
    "version": 3
   },
   "file_extension": ".py",
   "mimetype": "text/x-python",
   "name": "python",
   "nbconvert_exporter": "python",
   "pygments_lexer": "ipython3",
   "version": "3.5.2"
  }
 },
 "nbformat": 4,
 "nbformat_minor": 2
}
