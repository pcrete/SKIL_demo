{
 "cells": [
  {
   "cell_type": "markdown",
   "metadata": {},
   "source": [
    "# Deploy model with SKIL"
   ]
  },
  {
   "cell_type": "code",
   "execution_count": 1,
   "metadata": {},
   "outputs": [
    {
     "name": "stderr",
     "output_type": "stream",
     "text": [
      "Using TensorFlow backend.\n"
     ]
    }
   ],
   "source": [
    "from skil import Skil, WorkSpace, Experiment, Model, Deployment\n",
    "from keras.datasets import mnist"
   ]
  },
  {
   "cell_type": "markdown",
   "metadata": {},
   "source": [
    "## SKIL server\n",
    "\n",
    "Central class for managing connections with the SKIL server.\n",
    "\n",
    "**Arguments**:\n",
    "* **workspace_server_id**: None by default, only specify if you want to connect to a non-default SKIL workspace server.\n",
    "* **host**: string, Host on which the SKIL server runs.\n",
    "* **port**: integer, Port on which the SKIL host runs.\n",
    "* **debug**: boolean, set to false for more verbose logging.\n",
    "* **user_id**: user name for your SKIL server connection.\n",
    "* **password**: password of the provided SKIL user."
   ]
  },
  {
   "cell_type": "code",
   "execution_count": 2,
   "metadata": {},
   "outputs": [
    {
     "name": "stdout",
     "output_type": "stream",
     "text": [
      "'>>> Authenticating SKIL...'\n",
      "'>>> Done!'\n"
     ]
    }
   ],
   "source": [
    "skil_server = Skil(\n",
    "    host='localhost',\n",
    "    port=9008,\n",
    "    user_id='your_user_id',\n",
    "    password='your_password'\n",
    ")"
   ]
  },
  {
   "cell_type": "markdown",
   "metadata": {},
   "source": [
    "## WorkSpace\n",
    "\n",
    "Workspaces are a collection of features that enable different tasks such as conducting experiments, training models, and test different dataset transforms.\n",
    "\n",
    "Workspaces are distinct from Deployments by operating as a space for non-production work.\n",
    "    \n",
    "**Arguments**:\n",
    "* **skil**: Skil server instance\n",
    "* **name**: string. Name for the workspace.\n",
    "* **labels**: string. Labels associated with the workspace, useful for searching (comma seperated).\n",
    "* **verbose**: boolean. If True, api response will be printed.\n",
    "* **create**: boolean. Internal. Do not use.\n"
   ]
  },
  {
   "cell_type": "code",
   "execution_count": 3,
   "metadata": {},
   "outputs": [],
   "source": [
    "work_space = WorkSpace(\n",
    "    skil   =skil_server, \n",
    "    name   ='mnist-workspace', \n",
    "    labels ='keras,mnist'\n",
    ")"
   ]
  },
  {
   "cell_type": "markdown",
   "metadata": {},
   "source": [
    "## Experiments  \n",
    "\n",
    "Experiments in SKIL are useful for defining different model configurations, \n",
    "encapsulating training of models, and carrying out different data cleaning tasks.\n",
    "\n",
    "Experiments have a one-to-one relationship with Notebooks and have their own \n",
    "storage mechanism for saving different model configurations when seeking a best \n",
    "candidate.\n",
    "\n",
    "**Arguments**:\n",
    "* **work_space**: `WorkSpace` instance. If `None` a workspace will be created.\n",
    "* **experiment_id**: string. Unique id for workspace. If `None`, a unique id will be generated.\n",
    "* **name**: string. Name for the experiment.\n",
    "* **description**: string. Description for the experiment.\n",
    "* **verbose**: boolean. If `True`, api response will be printed."
   ]
  },
  {
   "cell_type": "code",
   "execution_count": 4,
   "metadata": {},
   "outputs": [],
   "source": [
    "experiment = Experiment(\n",
    "    work_space=work_space,\n",
    "    experiment_id='mnist-experiment-01',\n",
    "    name='mnist-experiment',\n",
    "    description='keras mnist experiment',\n",
    "    verbose=False\n",
    ")"
   ]
  },
  {
   "cell_type": "markdown",
   "metadata": {},
   "source": [
    "## Model    \n",
    "SKIL wrapper for DL4J, Keras, TensorFlow and other models\n",
    "\n",
    "SKIL has a robust model storage, serving, and import system for supporting major \n",
    "deep learning libraries.\n",
    "\n",
    "SKIL can be used for end-to-end training, configuration, and deployment of models \n",
    "or alternatively you can import models into SKIL.\n",
    "\n",
    "**Arguments**\n",
    "* **model**: Model file path or  model instance\n",
    "* **model_id**: string. Unique id for model. If `None`, a unique id will be generated.\n",
    "* **name**: string. Name for the model.\n",
    "* **version**: integer. Version of the model. Defaults to 1.\n",
    "* **experiment**: `Experiment` instance. If `None`, an `Experiment` object will be created internally.\n",
    "* **labels**: string. Labels for this model\n",
    "* **verbose**: boolean. If `True`, prints api response.\n",
    "* **create**: boolean. Internal. Do not use."
   ]
  },
  {
   "cell_type": "code",
   "execution_count": 5,
   "metadata": {},
   "outputs": [
    {
     "name": "stdout",
     "output_type": "stream",
     "text": [
      "'>>> Uploading model, this might take a while...'\n",
      "[   {'file_content': None,\n",
      " 'file_name': 'model.h5',\n",
      " 'key': 'file',\n",
      " 'path': '/opt/skil/plugins/files/MODEL/model.h5',\n",
      " 'status': 'uploaded',\n",
      " 'type': None}]\n"
     ]
    }
   ],
   "source": [
    "model = Model(\n",
    "    model='model.h5', \n",
    "    model_id='mnist-model-01', \n",
    "    name='mnist-model',\n",
    "    experiment=experiment\n",
    ")"
   ]
  },
  {
   "cell_type": "markdown",
   "metadata": {},
   "source": [
    "## Deployment\n",
    "\n",
    "Deployments operate independently of workspaces to ensure that there are\n",
    "no accidental interruptions or mistakes in a production environment.\n",
    "\n",
    "**Arguments:**\n",
    "* **skil**: `Skil` server instance.\n",
    "* **name**: string. Name for the deployment."
   ]
  },
  {
   "cell_type": "code",
   "execution_count": 6,
   "metadata": {},
   "outputs": [],
   "source": [
    "deployment = Deployment(\n",
    "    skil=skil_server,\n",
    "    name='mnist-deployment'\n",
    ")"
   ]
  },
  {
   "cell_type": "markdown",
   "metadata": {},
   "source": [
    "### Deploys the model\n",
    "\n",
    "**Arguments:**\n",
    "* deployment: `Deployment` instance.\n",
    "* start_server: boolean. If `True`, the service is immedietely started.\n",
    "* scale: integer. Scale-out for deployment.\n",
    "* input_names: list of strings. Input variable names of the model.\n",
    "* output_names: list of strings. Output variable names of the model.\n",
    "* verbose: boolean. If `True`, api response will be printed."
   ]
  },
  {
   "cell_type": "code",
   "execution_count": 7,
   "metadata": {},
   "outputs": [
    {
     "name": "stdout",
     "output_type": "stream",
     "text": [
      "{'created': 1554969854417,\n",
      " 'deployment_id': 0,\n",
      " 'extra_args': None,\n",
      " 'file_location': None,\n",
      " 'id': 0,\n",
      " 'jvm_args': None,\n",
      " 'labels_file_location': None,\n",
      " 'launch_policy': {'@class': 'io.skymind.deployment.launchpolicy.DefaultLaunchPolicy',\n",
      "                   'maxFailuresMs': 300000,\n",
      "                   'maxFailuresQty': 3},\n",
      " 'model_state': None,\n",
      " 'model_type': 'model',\n",
      " 'name': 'mnist-model',\n",
      " 'scale': 1.0,\n",
      " 'state': 'stopped',\n",
      " 'sub_type': None,\n",
      " 'updated': None}\n",
      "'>>> Starting to serve model...'\n",
      "'>>> Waiting for deployment...'\n",
      "'>>> Waiting for deployment...'\n",
      "'>>> Waiting for deployment...'\n",
      "'>>> Waiting for deployment...'\n",
      "'>>> Waiting for deployment...'\n",
      "'>>> Waiting for deployment...'\n",
      "'>>> Waiting for deployment...'\n",
      "'>>> Waiting for deployment...'\n",
      "'>>> Waiting for deployment...'\n",
      "'>>> Waiting for deployment...'\n",
      "'>>> Waiting for deployment...'\n",
      "'>>> Model server started successfully!'\n"
     ]
    },
    {
     "data": {
      "text/plain": [
       "<skil.services.Service at 0x7f272424e630>"
      ]
     },
     "execution_count": 7,
     "metadata": {},
     "output_type": "execute_result"
    }
   ],
   "source": [
    "model.deploy(\n",
    "    deployment=deployment,\n",
    "    start_server=True,\n",
    "    scale=1,\n",
    "    input_names=None,\n",
    "    output_names=None\n",
    ")"
   ]
  }
 ],
 "metadata": {
  "kernelspec": {
   "display_name": "Python 3",
   "language": "python",
   "name": "python3"
  },
  "language_info": {
   "codemirror_mode": {
    "name": "ipython",
    "version": 3
   },
   "file_extension": ".py",
   "mimetype": "text/x-python",
   "name": "python",
   "nbconvert_exporter": "python",
   "pygments_lexer": "ipython3",
   "version": "3.5.2"
  }
 },
 "nbformat": 4,
 "nbformat_minor": 2
}
