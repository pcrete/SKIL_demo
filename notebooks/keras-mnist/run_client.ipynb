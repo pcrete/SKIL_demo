{
 "cells": [
  {
   "cell_type": "code",
   "execution_count": 1,
   "metadata": {},
   "outputs": [],
   "source": [
    "import skil_client\n",
    "import cv2\n",
    "import numpy as np\n",
    "import matplotlib.pyplot as plt"
   ]
  },
  {
   "cell_type": "code",
   "execution_count": 2,
   "metadata": {},
   "outputs": [
    {
     "data": {
      "image/png": "[encoded data removed]",
      "text/plain": [
       "<Figure size 216x216 with 1 Axes>"
      ]
     },
     "metadata": {
      "needs_background": "light"
     },
     "output_type": "display_data"
    },
    {
     "data": {
      "text/plain": [
       "(784,)"
      ]
     },
     "execution_count": 2,
     "metadata": {},
     "output_type": "execute_result"
    }
   ],
   "source": [
    "image = cv2.imread(\"mnist-sample/img_1.jpg\", cv2.IMREAD_GRAYSCALE)\n",
    "\n",
    "plt.figure(figsize=(3,3))\n",
    "plt.imshow(cv2.cvtColor(image, cv2.COLOR_BGR2RGB))\n",
    "plt.show()\n",
    "\n",
    "image = np.squeeze(image.reshape(1,-1))\n",
    "image.shape"
   ]
  },
  {
   "cell_type": "markdown",
   "metadata": {},
   "source": [
    "## SKIL python client"
   ]
  },
  {
   "cell_type": "code",
   "execution_count": 6,
   "metadata": {},
   "outputs": [
    {
     "name": "stderr",
     "output_type": "stream",
     "text": [
      "Using TensorFlow backend.\n"
     ]
    }
   ],
   "source": [
    "from skil import Skil, Model, Deployment, Service, WorkSpace, Experiment\n",
    "\n",
    "from skil import get_workspace_by_id\n",
    "from skil import get_experiment_by_id\n",
    "from skil import get_model_by_id\n",
    "from skil import get_deployment_by_id"
   ]
  },
  {
   "cell_type": "code",
   "execution_count": 11,
   "metadata": {},
   "outputs": [],
   "source": [
    "workspace_id  = '278d4564-ed47-4334-8130-dc18347a392a'\n",
    "experiment_id = '278d4564-ed47-4334-8130-dc18347a392a_experiment_75c9e28c-5b51-11e9-8cc7-34e12ddbf19b'\n",
    "model_id      = '7a0c7986-5b51-11e9-8cc7-34e12ddbf19b'\n",
    "deployment_id = '1'"
   ]
  },
  {
   "cell_type": "code",
   "execution_count": 12,
   "metadata": {},
   "outputs": [
    {
     "name": "stdout",
     "output_type": "stream",
     "text": [
      "'>>> Authenticating SKIL...'\n",
      "'>>> Done!'\n"
     ]
    }
   ],
   "source": [
    "skil_server = Skil(\n",
    "    workspace_server_id=None,\n",
    "    host='localhost',\n",
    "    port=9008,\n",
    "    debug=False,\n",
    "    user_id='admin',\n",
    "    password='Skymind',\n",
    ")"
   ]
  },
  {
   "cell_type": "code",
   "execution_count": 13,
   "metadata": {},
   "outputs": [],
   "source": [
    "work_space = get_workspace_by_id(\n",
    "    skil=skil_server,\n",
    "    workspace_id=workspace_id\n",
    ")"
   ]
  },
  {
   "cell_type": "code",
   "execution_count": 14,
   "metadata": {},
   "outputs": [],
   "source": [
    "experiment = get_experiment_by_id(\n",
    "    work_space=work_space,\n",
    "    experiment_id=experiment_id\n",
    ")"
   ]
  },
  {
   "cell_type": "code",
   "execution_count": 19,
   "metadata": {},
   "outputs": [
    {
     "data": {
      "text/plain": [
       "[{'created': 1554874117204,\n",
       "  'deployment_id': 1,\n",
       "  'extra_args': None,\n",
       "  'file_location': None,\n",
       "  'id': 1,\n",
       "  'jvm_args': None,\n",
       "  'labels_file_location': None,\n",
       "  'launch_policy': {'@class': 'io.skymind.deployment.launchpolicy.DefaultLaunchPolicy',\n",
       "                    'maxFailuresMs': 300000,\n",
       "                    'maxFailuresQty': 3},\n",
       "  'model_state': None,\n",
       "  'model_type': 'model',\n",
       "  'name': 'keras-mnist',\n",
       "  'scale': 1.0,\n",
       "  'state': 'started',\n",
       "  'sub_type': None,\n",
       "  'updated': 1554874160591}]"
      ]
     },
     "execution_count": 19,
     "metadata": {},
     "output_type": "execute_result"
    }
   ],
   "source": [
    "model = get_model_by_id(\n",
    "    experiment=experiment,\n",
    "    model_id=model_id\n",
    ")\n",
    "\n",
    "model_deployment = skil_server.api.models(deployment_id=deployment_id)\n",
    "model_deployment"
   ]
  },
  {
   "cell_type": "code",
   "execution_count": 22,
   "metadata": {},
   "outputs": [],
   "source": [
    "deployment = get_deployment_by_id(\n",
    "    skil=skil_server,\n",
    "    deployment_id=deployment_id\n",
    ")\n",
    "\n",
    "# skil_server.api.deployment_get(deployment_id=deployment_id)"
   ]
  },
  {
   "cell_type": "code",
   "execution_count": 25,
   "metadata": {
    "scrolled": true
   },
   "outputs": [],
   "source": [
    "service = Service(\n",
    "    skil=skil_server,\n",
    "    model=model,\n",
    "    deployment=deployment,\n",
    "    model_deployment=model_deployment\n",
    ")"
   ]
  },
  {
   "cell_type": "code",
   "execution_count": 43,
   "metadata": {},
   "outputs": [
    {
     "name": "stdout",
     "output_type": "stream",
     "text": [
      "Predicted: [[0. 0. 1. 0. 0. 0. 0. 0. 0. 0.]]\n",
      "Target Class: 2\n"
     ]
    }
   ],
   "source": [
    "predicted = service.predict_single(image)\n",
    "print('Predicted:',predicted)\n",
    "print('Target Class:',np.argmax(predicted))"
   ]
  }
 ],
 "metadata": {
  "kernelspec": {
   "display_name": "Python 3",
   "language": "python",
   "name": "python3"
  },
  "language_info": {
   "codemirror_mode": {
    "name": "ipython",
    "version": 3
   },
   "file_extension": ".py",
   "mimetype": "text/x-python",
   "name": "python",
   "nbconvert_exporter": "python",
   "pygments_lexer": "ipython3",
   "version": "3.5.2"
  }
 },
 "nbformat": 4,
 "nbformat_minor": 2
}
