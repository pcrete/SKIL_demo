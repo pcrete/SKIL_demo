{
 "cells": [
  {
   "cell_type": "markdown",
   "metadata": {},
   "source": [
    "# Working with existing deployments"
   ]
  },
  {
   "cell_type": "code",
   "execution_count": 1,
   "metadata": {},
   "outputs": [
    {
     "name": "stderr",
     "output_type": "stream",
     "text": [
      "Using TensorFlow backend.\n"
     ]
    },
    {
     "name": "stdout",
     "output_type": "stream",
     "text": [
      "'>>> Authenticating SKIL...'\n",
      "'>>> Done!'\n"
     ]
    }
   ],
   "source": [
    "from skil import Skil, Service\n",
    "from skil import get_workspace_by_id\n",
    "from skil import get_experiment_by_id\n",
    "from skil import get_model_by_id\n",
    "from skil import get_deployment_by_id\n",
    "\n",
    "skil_server = Skil(\n",
    "    host='localhost',\n",
    "    port=9008,\n",
    "    user_id='your_user_id',\n",
    "    password='your_password'\n",
    ")"
   ]
  },
  {
   "cell_type": "code",
   "execution_count": 2,
   "metadata": {},
   "outputs": [],
   "source": [
    "workspace_id  = 'your_workspace_id'\n",
    "experiment_id = 'your_experiment_id'\n",
    "model_id      = 'your_model_id'\n",
    "deployment_id = 'your_deployment_id'"
   ]
  },
  {
   "cell_type": "code",
   "execution_count": 4,
   "metadata": {},
   "outputs": [],
   "source": [
    "work_space = get_workspace_by_id(skil_server, workspace_id)\n",
    "\n",
    "experiment = get_experiment_by_id(work_space, experiment_id)\n",
    "\n",
    "deployment = get_deployment_by_id(skil_server, deployment_id)\n",
    "\n",
    "model      = get_model_by_id(experiment, model_id)"
   ]
  },
  {
   "cell_type": "code",
   "execution_count": 5,
   "metadata": {
    "scrolled": true
   },
   "outputs": [],
   "source": [
    "service = Service(\n",
    "    skil=skil_server,\n",
    "    model=model,\n",
    "    deployment=deployment,\n",
    "    model_deployment=None\n",
    ")"
   ]
  },
  {
   "cell_type": "markdown",
   "metadata": {},
   "source": [
    "## Prediction"
   ]
  },
  {
   "cell_type": "code",
   "execution_count": 6,
   "metadata": {},
   "outputs": [
    {
     "data": {
      "image/png": "[encoded data removed]",
      "text/plain": [
       "<Figure size 216x216 with 1 Axes>"
      ]
     },
     "metadata": {
      "needs_background": "light"
     },
     "output_type": "display_data"
    }
   ],
   "source": [
    "import cv2\n",
    "import numpy as np\n",
    "import matplotlib.pyplot as plt\n",
    "%matplotlib inline\n",
    "\n",
    "image = cv2.imread(\"mnist.jpg\", cv2.IMREAD_GRAYSCALE)\n",
    "plt.figure(figsize=(3,3))\n",
    "plt.imshow(cv2.cvtColor(image, cv2.COLOR_BGR2RGB))\n",
    "plt.show()"
   ]
  },
  {
   "cell_type": "code",
   "execution_count": 7,
   "metadata": {},
   "outputs": [
    {
     "data": {
      "text/plain": [
       "(784,)"
      ]
     },
     "execution_count": 7,
     "metadata": {},
     "output_type": "execute_result"
    }
   ],
   "source": [
    "image = np.squeeze(image.reshape(1,-1))\n",
    "image.shape"
   ]
  },
  {
   "cell_type": "code",
   "execution_count": 8,
   "metadata": {},
   "outputs": [
    {
     "name": "stdout",
     "output_type": "stream",
     "text": [
      "Predicted: [[0. 0. 1. 0. 0. 0. 0. 0. 0. 0.]]\n",
      "Target Class: 2\n"
     ]
    }
   ],
   "source": [
    "predicted = service.predict_single(image)\n",
    "print('Predicted:',predicted)\n",
    "print('Target Class:',np.argmax(predicted))"
   ]
  }
 ],
 "metadata": {
  "kernelspec": {
   "display_name": "Python 3",
   "language": "python",
   "name": "python3"
  },
  "language_info": {
   "codemirror_mode": {
    "name": "ipython",
    "version": 3
   },
   "file_extension": ".py",
   "mimetype": "text/x-python",
   "name": "python",
   "nbconvert_exporter": "python",
   "pygments_lexer": "ipython3",
   "version": "3.5.2"
  }
 },
 "nbformat": 4,
 "nbformat_minor": 2
}
