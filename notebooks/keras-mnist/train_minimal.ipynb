{
 "cells": [
  {
   "cell_type": "markdown",
   "metadata": {},
   "source": [
    "# Train MNIST"
   ]
  },
  {
   "cell_type": "code",
   "execution_count": 1,
   "metadata": {},
   "outputs": [
    {
     "name": "stderr",
     "output_type": "stream",
     "text": [
      "Using TensorFlow backend.\n"
     ]
    },
    {
     "name": "stdout",
     "output_type": "stream",
     "text": [
      "Downloading data from https://s3.amazonaws.com/img-datasets/mnist.npz\n",
      "11493376/11490434 [==============================] - 4s 0us/step\n",
      "_________________________________________________________________\n",
      "Layer (type)                 Output Shape              Param #   \n",
      "=================================================================\n",
      "input_1 (InputLayer)         (None, 784)               0         \n",
      "_________________________________________________________________\n",
      "dense_1 (Dense)              (None, 512)               401920    \n",
      "_________________________________________________________________\n",
      "dropout_1 (Dropout)          (None, 512)               0         \n",
      "_________________________________________________________________\n",
      "dense_2 (Dense)              (None, 512)               262656    \n",
      "_________________________________________________________________\n",
      "dropout_2 (Dropout)          (None, 512)               0         \n",
      "_________________________________________________________________\n",
      "dense_3 (Dense)              (None, 10)                5130      \n",
      "=================================================================\n",
      "Total params: 669,706\n",
      "Trainable params: 669,706\n",
      "Non-trainable params: 0\n",
      "_________________________________________________________________\n",
      "Train on 60000 samples, validate on 10000 samples\n",
      "Epoch 1/10\n",
      "60000/60000 [==============================] - 6s 105us/step - loss: 1.2225 - acc: 0.6799 - val_loss: 0.5608 - val_acc: 0.8610\n",
      "Epoch 2/10\n",
      "60000/60000 [==============================] - 6s 107us/step - loss: 0.5426 - acc: 0.8462 - val_loss: 0.3860 - val_acc: 0.8975\n",
      "Epoch 3/10\n",
      "60000/60000 [==============================] - 6s 107us/step - loss: 0.4304 - acc: 0.8749 - val_loss: 0.3268 - val_acc: 0.9092\n",
      "Epoch 4/10\n",
      "60000/60000 [==============================] - 7s 113us/step - loss: 0.3798 - acc: 0.8907 - val_loss: 0.2950 - val_acc: 0.9176\n",
      "Epoch 5/10\n",
      "60000/60000 [==============================] - 7s 109us/step - loss: 0.3464 - acc: 0.8992 - val_loss: 0.2729 - val_acc: 0.9224\n",
      "Epoch 6/10\n",
      "60000/60000 [==============================] - 7s 108us/step - loss: 0.3189 - acc: 0.9075 - val_loss: 0.2543 - val_acc: 0.9282\n",
      "Epoch 7/10\n",
      "60000/60000 [==============================] - 6s 105us/step - loss: 0.2985 - acc: 0.9137 - val_loss: 0.2401 - val_acc: 0.9303\n",
      "Epoch 8/10\n",
      "60000/60000 [==============================] - 6s 105us/step - loss: 0.2816 - acc: 0.9180 - val_loss: 0.2262 - val_acc: 0.9350\n",
      "Epoch 9/10\n",
      "60000/60000 [==============================] - 6s 106us/step - loss: 0.2661 - acc: 0.9231 - val_loss: 0.2167 - val_acc: 0.9376\n",
      "Epoch 10/10\n",
      "60000/60000 [==============================] - 6s 106us/step - loss: 0.2542 - acc: 0.9269 - val_loss: 0.2056 - val_acc: 0.9401\n"
     ]
    }
   ],
   "source": [
    "import keras\n",
    "from keras.datasets import mnist\n",
    "from keras.models import Model\n",
    "from keras.layers import Dense, Dropout, Input\n",
    "\n",
    "batch_size = 128\n",
    "num_classes = 10\n",
    "epochs = 10\n",
    "\n",
    "(x_train, y_train), (x_test, y_test) = mnist.load_data()\n",
    "\n",
    "x_train = x_train.reshape(60000, 784)\n",
    "x_test = x_test.reshape(10000, 784)\n",
    "x_train = x_train.astype('float32')\n",
    "x_test = x_test.astype('float32')\n",
    "x_train /= 255\n",
    "x_test /= 255\n",
    "\n",
    "y_train = keras.utils.to_categorical(y_train, num_classes)\n",
    "y_test = keras.utils.to_categorical(y_test, num_classes)\n",
    "\n",
    "\n",
    "inp = Input((784,))\n",
    "x = Dense(512, activation='relu')(inp)\n",
    "x = Dropout(0.2)(x)\n",
    "x = Dense(512, activation='relu')(x)\n",
    "x = Dropout(0.2)(x)\n",
    "out = Dense(num_classes, activation='softmax')(x)\n",
    "\n",
    "model = Model(inp, out)\n",
    "\n",
    "model.summary()\n",
    "\n",
    "model.compile(loss='categorical_crossentropy',\n",
    "              optimizer='sgd', metrics=['accuracy'])\n",
    "\n",
    "\n",
    "history = model.fit(x_train, y_train,\n",
    "                    batch_size=batch_size,\n",
    "                    epochs=epochs,\n",
    "                    verbose=1,\n",
    "                    validation_data=(x_test, y_test))\n",
    "\n",
    "model.save(\"model.h5\")"
   ]
  },
  {
   "cell_type": "code",
   "execution_count": null,
   "metadata": {},
   "outputs": [],
   "source": []
  }
 ],
 "metadata": {
  "kernelspec": {
   "display_name": "Python 3",
   "language": "python",
   "name": "python3"
  },
  "language_info": {
   "codemirror_mode": {
    "name": "ipython",
    "version": 3
   },
   "file_extension": ".py",
   "mimetype": "text/x-python",
   "name": "python",
   "nbconvert_exporter": "python",
   "pygments_lexer": "ipython3",
   "version": "3.5.2"
  }
 },
 "nbformat": 4,
 "nbformat_minor": 2
}
