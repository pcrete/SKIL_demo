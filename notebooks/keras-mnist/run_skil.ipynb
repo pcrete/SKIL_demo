{
 "cells": [
  {
   "cell_type": "code",
   "execution_count": null,
   "metadata": {},
   "outputs": [],
   "source": [
    "from skil import Skil, WorkSpace, Experiment, Model, Deployment\n",
    "import json\n",
    "\n",
    "# Initialize a new experiment in a workspace\n",
    "skil_server = Skil()\n",
    "ws = WorkSpace(skil_server)\n",
    "experiment = Experiment(ws)\n",
    "deployment = Deployment(skil_server)\n",
    "\n",
    "# Deploy all models with SKIL\n",
    "skil_services = []\n",
    "for epoch in range(2):\n",
    "    model_name = 'model_{epoch:02d}.hdf5'.format(epoch=epoch + 1)\n",
    "    model = Model(model_name, model_id=epoch, experiment=experiment)\n",
    "    service = model.deploy(start_server=False, deployment=deployment)\n",
    "    skil_services.append(service)\n",
    "\n",
    "# Serve the best one\n",
    "with open('history.json', 'r') as f:\n",
    "    history = json.loads(f.read())\n",
    "    acc = history.get('val_acc')\n",
    "best_service = skil_services[acc.index(max(acc))]\n",
    "best_service.start()"
   ]
  }
 ],
 "metadata": {
  "kernelspec": {
   "display_name": "Python 3",
   "language": "python",
   "name": "python3"
  },
  "language_info": {
   "codemirror_mode": {
    "name": "ipython",
    "version": 3
   },
   "file_extension": ".py",
   "mimetype": "text/x-python",
   "name": "python",
   "nbconvert_exporter": "python",
   "pygments_lexer": "ipython3",
   "version": "3.5.2"
  }
 },
 "nbformat": 4,
 "nbformat_minor": 2
}
