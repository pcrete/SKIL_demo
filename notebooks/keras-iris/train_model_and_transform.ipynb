{
 "cells": [
  {
   "cell_type": "code",
   "execution_count": 2,
   "metadata": {},
   "outputs": [],
   "source": [
    "from pydatavec.utils import download_file\n",
    "from pydatavec import Schema, TransformProcess\n",
    "from keras.models import Sequential\n",
    "from keras.layers import Dense\n",
    "from keras.optimizers import Adam\n",
    "import numpy as np\n",
    "import os\n",
    "import pyspark"
   ]
  },
  {
   "cell_type": "markdown",
   "metadata": {},
   "source": [
    "## Use pyspark to filter empty lines"
   ]
  },
  {
   "cell_type": "code",
   "execution_count": 3,
   "metadata": {},
   "outputs": [],
   "source": [
    "filename = \"iris.data\"\n",
    "sc = pyspark.SparkContext(master='local[*]', appName='iris')\n",
    "data = sc.textFile('iris.data')\n",
    "filtered_data = data.filter(lambda d: len(d) > 0)"
   ]
  },
  {
   "cell_type": "markdown",
   "metadata": {},
   "source": [
    "## Define Input Schema"
   ]
  },
  {
   "cell_type": "code",
   "execution_count": 4,
   "metadata": {},
   "outputs": [],
   "source": [
    "input_schema = Schema()\n",
    "input_schema.add_double_column('Sepal length')\n",
    "input_schema.add_double_column('Sepal width')\n",
    "input_schema.add_double_column('Petal length')\n",
    "input_schema.add_double_column('Petal width')\n",
    "input_schema.add_categorical_column(\"Species\", [\"Iris-setosa\", \"Iris-versicolor\", \"Iris-virginica\"])"
   ]
  },
  {
   "cell_type": "markdown",
   "metadata": {},
   "source": [
    "## Define Transform Process"
   ]
  },
  {
   "cell_type": "code",
   "execution_count": 5,
   "metadata": {},
   "outputs": [],
   "source": [
    "tp = TransformProcess(input_schema)\n",
    "tp.one_hot(\"Species\")"
   ]
  },
  {
   "cell_type": "markdown",
   "metadata": {},
   "source": [
    "## Do the transformation on spark and convert to numpy"
   ]
  },
  {
   "cell_type": "code",
   "execution_count": 7,
   "metadata": {},
   "outputs": [],
   "source": [
    "# output = tp(filtered_data)\n",
    "# np_array = np.array([[float(i) for i in x.split(',')] for x in output])\n",
    "# x = np_array[:, :-3]\n",
    "# y = np_array[:, -3:]"
   ]
  },
  {
   "cell_type": "markdown",
   "metadata": {},
   "source": [
    "## Build the Keras model"
   ]
  },
  {
   "cell_type": "code",
   "execution_count": null,
   "metadata": {},
   "outputs": [],
   "source": [
    "model = Sequential()\n",
    "model.add(Dense(10, input_shape=(4,), activation='relu', name='fc1'))\n",
    "model.add(Dense(10, activation='relu', name='fc2'))\n",
    "model.add(Dense(3, activation='softmax', name='output'))\n",
    "\n",
    "optimizer = Adam(lr=0.001)\n",
    "model.compile(optimizer, loss='categorical_crossentropy', metrics=['accuracy'])\n",
    "model.fit(x, y, batch_size=5, epochs=200)"
   ]
  },
  {
   "cell_type": "markdown",
   "metadata": {},
   "source": [
    "## Save transform process and model"
   ]
  },
  {
   "cell_type": "code",
   "execution_count": null,
   "metadata": {},
   "outputs": [],
   "source": [
    "with open('iris_tp.json', 'w') as f:\n",
    "    f.write(tp.to_java().toJson())\n",
    "model.save('iris_model.h5')"
   ]
  }
 ],
 "metadata": {
  "kernelspec": {
   "display_name": "Python 3",
   "language": "python",
   "name": "python3"
  },
  "language_info": {
   "codemirror_mode": {
    "name": "ipython",
    "version": 3
   },
   "file_extension": ".py",
   "mimetype": "text/x-python",
   "name": "python",
   "nbconvert_exporter": "python",
   "pygments_lexer": "ipython3",
   "version": "3.5.2"
  }
 },
 "nbformat": 4,
 "nbformat_minor": 2
}
